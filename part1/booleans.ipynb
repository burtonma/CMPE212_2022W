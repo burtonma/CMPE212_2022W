{
 "cells": [
  {
   "cell_type": "code",
   "execution_count": null,
   "metadata": {},
   "outputs": [],
   "source": [
    "// run this cell to prevent Jupyter from displaying the null output cell\n",
    "com.twosigma.beakerx.kernel.Kernel.showNullExecutionResult = false;"
   ]
  },
  {
   "cell_type": "markdown",
   "metadata": {},
   "source": [
    "<a id='notebook_id'></a>\n",
    "# Booleans\n",
    "\n",
    "Boolean values are values that are either true or false."
   ]
  },
  {
   "cell_type": "markdown",
   "metadata": {},
   "source": [
    "## C booleans\n",
    "\n",
    "There was no standard type for boolean values prior to C99. The `int` value `0` represents the boolean value `false` and the `int` value\n",
    "`1` represents the boolean value `true`.\n",
    "\n",
    "The following C example prints `TRUE` if the value of `tf` is `true` and prints `FALSE` otherwise:\n",
    "\n",
    "```c\n",
    "int tf = 0;         // 0 -> false, 1 -> true\n",
    "if (tf) {\n",
    "    puts(\"TRUE\");\n",
    "}\n",
    "else {\n",
    "    puts(\"FALSE\");\n",
    "}\n",
    "```\n",
    "\n",
    "C is very permissive in terms of which values can be automatically converted to `false` and `true`. Any numeric value equal to\n",
    "zero is convertible to `false` as is the value `NULL`; all other numeric values are converted to `true`."
   ]
  },
  {
   "cell_type": "markdown",
   "metadata": {},
   "source": [
    "## Java booleans\n",
    "\n",
    "The boolean literals in Java are `true` and `false` and are values of the primitive type `boolean`."
   ]
  },
  {
   "cell_type": "code",
   "execution_count": null,
   "metadata": {},
   "outputs": [],
   "source": [
    "boolean x = true;\n",
    "System.out.println(\"x is: \" + x);\n",
    "boolean y = false;\n",
    "System.out.println(\"y is: \" + y);"
   ]
  },
  {
   "cell_type": "markdown",
   "metadata": {},
   "source": [
    "Numeric values *cannot* be directly converted to a `boolean` value, not even with a cast. Run the next two cells to see what happens when the programmer tries to convert a numeric value to a `boolean` value."
   ]
  },
  {
   "cell_type": "code",
   "execution_count": null,
   "metadata": {},
   "outputs": [],
   "source": [
    "int x = 0;      // false?\n",
    "boolean b = x;"
   ]
  },
  {
   "cell_type": "code",
   "execution_count": null,
   "metadata": {},
   "outputs": [],
   "source": [
    "double x = 1.0;      // true?\n",
    "boolean b = (boolean) x;"
   ]
  },
  {
   "cell_type": "markdown",
   "metadata": {},
   "source": [
    "`boolean` values *cannot* be directly converted to any of the numeric type values, not even with a cast. Run the next two cells to see what happens when the programmer tries to convert a `boolean` value to a numeric value."
   ]
  },
  {
   "cell_type": "code",
   "execution_count": null,
   "metadata": {},
   "outputs": [],
   "source": [
    "boolean b = true;\n",
    "int x = b;        // try to implicitly convert a boolean to an int"
   ]
  },
  {
   "cell_type": "code",
   "execution_count": null,
   "metadata": {},
   "outputs": [],
   "source": [
    "boolean b = false;\n",
    "double x = (boolean) b;   // try to explicitly convert a boolean to a double using a cast"
   ]
  },
  {
   "cell_type": "markdown",
   "metadata": {},
   "source": [
    "Java provides a special wrapper class named `Boolean` that allows the programmer to convert `boolean` values to objects and vice versa. The conversion is usually performed automatically by the Java compiler, but can be performed manually using a cast. Run the next two cells to see examples of both kinds of conversions. "
   ]
  },
  {
   "cell_type": "code",
   "execution_count": null,
   "metadata": {},
   "outputs": [],
   "source": [
    "boolean b = true;\n",
    "Boolean boo = b;              // implicitly convert boolean to Boolean\n",
    "Boolean boo2 = (Boolean) b;   // explicitly convert boolean to Boolean using a cast; not normally done\n",
    "System.out.println(\"converting from boolean to Boolean works\");"
   ]
  },
  {
   "cell_type": "code",
   "execution_count": null,
   "metadata": {},
   "outputs": [],
   "source": [
    "Boolean boo = Boolean.FALSE;\n",
    "boolean b = boo;              // implicitly convert Boolean to boolean\n",
    "boolean b2 = (boolean) boo;   // explicitly convert Boolean to boolean using a cast; not normally done\n",
    "System.out.println(\"converting from Boolean to boolean works\");"
   ]
  },
  {
   "cell_type": "markdown",
   "metadata": {},
   "source": [
    "While not particularly useful in the above examples, the wrapper class is required because the generic collections introduced with Java 5 store object references (such as references to `Boolean` objects) and not primitive values (such as `boolean`). Without the wrapper class it would be impossible to, for example, easily create a `List` of `boolean` values."
   ]
  },
  {
   "cell_type": "markdown",
   "metadata": {},
   "source": [
    "Besides the wrapper class, conversions between `boolean` and other object types are not possible. This means that you cannot check for \"truthiness\" of objects. For example, the following does work to check if a string is not empty:"
   ]
  },
  {
   "cell_type": "code",
   "execution_count": null,
   "metadata": {},
   "outputs": [],
   "source": [
    "String name = \"OneTonSoup\";\n",
    "if (name) {   // error! String reference not convertible to boolean\n",
    "    System.out.println(\"Hello, \" + name);\n",
    "}\n",
    "else {\n",
    "    throw new RuntimeException(\"name cannot be empty\");\n",
    "}"
   ]
  },
  {
   "cell_type": "markdown",
   "metadata": {},
   "source": [
    "In Java, we have to explicitly state what the condition is that we want to check; in other words, we have to check if the `String` `name` is not empty using a `String` method:"
   ]
  },
  {
   "cell_type": "code",
   "execution_count": null,
   "metadata": {},
   "outputs": [],
   "source": [
    "String name = \"OneTonSoup\";\n",
    "if (!name.isEmpty()) {   // if not name.isEmpty()\n",
    "    System.out.println(\"Hello, \" + name);\n",
    "}\n",
    "else {\n",
    "    throw new RuntimeException(\"name cannot be empty\");\n",
    "}"
   ]
  },
  {
   "cell_type": "markdown",
   "metadata": {},
   "source": [
    "## Summary\n",
    "\n",
    "The key points to remember about Java `boolean`s are:\n",
    "\n",
    "* the `boolean` literals are `true` and `false`\n",
    "* `boolean` values cannot be directly converted to numeric type values and numeric type values cannot be directly converted to `boolean` values\n",
    "* `Boolean` is the wrapper class for `boolean`\n",
    "* `boolean` values can be directly converted to `Boolean` values and vice versa; the conversion is usually performed automatically when required by the compiler\n",
    "* reference types other than `Boolean` cannot be directly converted to `boolean` values"
   ]
  },
  {
   "cell_type": "markdown",
   "metadata": {},
   "source": [
    "## Exercises\n",
    "\n",
    "1. In the following cell try casting the `int` variable `x` to a `boolean` value `b`. Does it work?"
   ]
  },
  {
   "cell_type": "code",
   "execution_count": null,
   "metadata": {},
   "outputs": [],
   "source": [
    "// Exercise 1\n",
    "int x = 1;\n",
    "boolean b;      // try casting x here"
   ]
  },
  {
   "cell_type": "markdown",
   "metadata": {},
   "source": [
    "2. In the following cell try casting the `String` variable `s` to a `boolean` value `b`. Does it work?"
   ]
  },
  {
   "cell_type": "code",
   "execution_count": null,
   "metadata": {},
   "outputs": [],
   "source": [
    "// Exercise 2\n",
    "String s = \"true\";\n",
    "boolean b;      // try casting s here"
   ]
  },
  {
   "cell_type": "markdown",
   "metadata": {},
   "source": [
    "3. Occasionally, it is useful to convert the string `\"true\"` to `boolean` `true` and the string `\"false\"` to `boolean` `false`. The wrapper class `Boolean` has a method `valueOf` that converts a string to a `boolean` value. The cell below converts `\"true\"` to `true`. Run the cell to confirm that this is in fact the case."
   ]
  },
  {
   "cell_type": "code",
   "execution_count": null,
   "metadata": {},
   "outputs": [],
   "source": [
    "// Exercise 3\n",
    "String s = \"true\";\n",
    "boolean b = Boolean.valueOf(s);\n",
    "System.out.println(b);"
   ]
  },
  {
   "cell_type": "markdown",
   "metadata": {},
   "source": [
    "4. Modify the cell for Exercise 3 so that `\"false\"` is converted to `false`."
   ]
  },
  {
   "cell_type": "markdown",
   "metadata": {},
   "source": [
    "5. Modify the cell for Exercise 3 so that the string `s` is `\"abc\"`. Does the cell run or is an exception thrown? If the cell runs, what is the value of `b`?"
   ]
  }
 ],
 "metadata": {
  "kernelspec": {
   "display_name": "Java",
   "language": "java",
   "name": "java"
  },
  "language_info": {
   "codemirror_mode": "text/x-java",
   "file_extension": ".java",
   "mimetype": "",
   "name": "Java",
   "nbconverter_exporter": "",
   "version": "11.0.1-internal"
  },
  "toc": {
   "base_numbering": 1,
   "nav_menu": {},
   "number_sections": false,
   "sideBar": false,
   "skip_h1_title": false,
   "title_cell": "Table of Contents",
   "title_sidebar": "Contents",
   "toc_cell": false,
   "toc_position": {},
   "toc_section_display": false,
   "toc_window_display": false
  }
 },
 "nbformat": 4,
 "nbformat_minor": 4
}
