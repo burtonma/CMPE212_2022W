{
 "cells": [
  {
   "cell_type": "markdown",
   "metadata": {},
   "source": [
    "<a id=\"notebook_id\"></a>\n",
    "# Comments\n",
    "\n",
    "A comment is text that is ignored by the interpreter or compiler. The purpose of a comment is to make source code easier for human readers to understand."
   ]
  },
  {
   "cell_type": "markdown",
   "metadata": {},
   "source": [
    "C and Java have two different kinds of comments.\n",
    "\n",
    "A double forwards slash `//` indicates the start of a line ending comment. All text starting from the `//` to the end of the line is considered to be part of the comment. Two examples of such a comment include:"
   ]
  },
  {
   "cell_type": "code",
   "execution_count": null,
   "metadata": {},
   "outputs": [],
   "source": [
    "// This entire line is a Java comment.\n",
    "\n",
    "int x = 1; // This line assigns the value 1 to x and ends with a comment\n",
    "System.out.println(x);"
   ]
  },
  {
   "cell_type": "markdown",
   "metadata": {},
   "source": [
    "The second type of comment begins with `/*` and ends with `*/`. All text from a starting `/*` to the first occurrence of a following `*/` is ignored by the compiler. Such a comment can be used to comment out parts of an expression or statement (but not part of a string literal; see below) or to write a comment that spans multiple lines:"
   ]
  },
  {
   "cell_type": "code",
   "execution_count": null,
   "metadata": {},
   "outputs": [],
   "source": [
    "/* The following example comments out part of an expression */\n",
    "int x = 1 + /* + 2 + 3 */ + 4;\n",
    "System.out.println(x);\n",
    "\n",
    "/* This is a \n",
    "   multi-line comment\n",
    "   in\n",
    "   Java */\n",
    "\n",
    "/* Multiline comments can be used to comment out blocks of code; for example */\n",
    "\n",
    "/*\n",
    "    int x = 1;\n",
    "    int y = 2;\n",
    "    System.out.println(x + y);\n",
    "*/"
   ]
  },
  {
   "cell_type": "markdown",
   "metadata": {},
   "source": [
    "It is not possible to insert a comment into a Java string. The comment delimiters simply become part of the string:"
   ]
  },
  {
   "cell_type": "code",
   "execution_count": null,
   "metadata": {},
   "outputs": [],
   "source": [
    "String s = \"This string // does not contain a comment.\";\n",
    "System.out.println(s);\n",
    "\n",
    "String t = \"This string /* does not contain a comment either */\";\n",
    "System.out.println(t);"
   ]
  },
  {
   "cell_type": "markdown",
   "metadata": {},
   "source": [
    "## Exercises\n",
    "\n",
    "1. In the following cell test if a comment starting with `//` can be used to comment out the following comment:\n",
    "```java\n",
    "/* Can you comment out this comment? */\n",
    "```"
   ]
  },
  {
   "cell_type": "code",
   "execution_count": null,
   "metadata": {},
   "outputs": [],
   "source": [
    "// Exercise 1\n"
   ]
  },
  {
   "cell_type": "markdown",
   "metadata": {},
   "source": [
    "2. In the following cell test if a comment delimited by `/* */` can be used to comment out the following comment:\n",
    "```java\n",
    "// Can you comment out this comment?\n",
    "```"
   ]
  },
  {
   "cell_type": "code",
   "execution_count": null,
   "metadata": {},
   "outputs": [],
   "source": [
    "// Exercise 2"
   ]
  },
  {
   "cell_type": "markdown",
   "metadata": {},
   "source": [
    "3. In the following cell test if the following Java code compiles. If the code does not compile can you explain why?\n",
    "```\n",
    "/* Begin comment\n",
    "\n",
    "   /* Example of a Java loop */\n",
    "    for (int i = 0; i < 5; i++) {\n",
    "        System.out.println(i);\n",
    "    }\n",
    "\n",
    "    End comment */\n",
    "```"
   ]
  },
  {
   "cell_type": "code",
   "execution_count": null,
   "metadata": {},
   "outputs": [],
   "source": [
    "// Exercise 3"
   ]
  }
 ],
 "metadata": {
  "kernelspec": {
   "display_name": "Java",
   "language": "java",
   "name": "java"
  },
  "language_info": {
   "codemirror_mode": "text/x-java",
   "file_extension": ".java",
   "mimetype": "",
   "name": "Java",
   "nbconverter_exporter": "",
   "version": "1.8.0_121"
  },
  "toc": {
   "base_numbering": 1,
   "nav_menu": {},
   "number_sections": false,
   "sideBar": false,
   "skip_h1_title": false,
   "title_cell": "Table of Contents",
   "title_sidebar": "Contents",
   "toc_cell": false,
   "toc_position": {},
   "toc_section_display": false,
   "toc_window_display": false
  }
 },
 "nbformat": 4,
 "nbformat_minor": 4
}
