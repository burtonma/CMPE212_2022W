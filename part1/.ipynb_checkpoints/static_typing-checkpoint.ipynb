{
 "cells": [
  {
   "cell_type": "code",
   "execution_count": null,
   "metadata": {},
   "outputs": [],
   "source": [
    "// run this cell to prevent Jupyter from displaying the null output cell\n",
    "com.twosigma.beakerx.kernel.Kernel.showNullExecutionResult = false;"
   ]
  },
  {
   "cell_type": "markdown",
   "metadata": {},
   "source": [
    "# C and Java are statically typed languages\n"
   ]
  },
  {
   "cell_type": "markdown",
   "metadata": {},
   "source": [
    "C and Java are *statically typed* languages which means that the compiler performs type checking *when a program is compiled*. Try running the Java program in the following cell:"
   ]
  },
  {
   "cell_type": "code",
   "execution_count": null,
   "metadata": {},
   "outputs": [],
   "source": [
    "int x = 1;\n",
    "if (x > 0) {\n",
    "    System.out.println(\"positive\");\n",
    "}\n",
    "else {\n",
    "    x += \" is not positive\";           // concatenate a String to an int?\n",
    "    System.out.println(x);\n",
    "}"
   ]
  },
  {
   "cell_type": "markdown",
   "metadata": {},
   "source": [
    "The program does not run even though the code the `else` clause does not execute when `x` has the value `1`. The type error has been detected by the Java compiler at compile time. Proponents of statically typed languages often cite the ability to detect errors early during compile time as an advantage compared to dynamically typed languages."
   ]
  },
  {
   "cell_type": "markdown",
   "metadata": {},
   "source": [
    "In C and Java, both values and variables have types. Notice that the first time the variable `x` is mentioned the type `int` is placed in front of the name `x`. We say that the variable `x` is *declared* as a variable of type `int`. This means that only `int` values, or values that the compiler is willing to convert to type `int`, can be stored in the variable `x`.\n",
    "\n",
    "Run the following cell to see what happens if we try to store a string in the variable `x`:"
   ]
  },
  {
   "cell_type": "code",
   "execution_count": null,
   "metadata": {},
   "outputs": [],
   "source": [
    "int x = 1;\n",
    "System.out.println(x);\n",
    "\n",
    "x = \"Not one\";          // store a string in x?\n",
    "System.out.println(x);"
   ]
  },
  {
   "cell_type": "markdown",
   "metadata": {},
   "source": [
    "Once again, notice that the program does not run; instead a compile time error is emitted indicating that a \"String cannot be converted to int\".\n",
    "\n",
    "After a variable is declared it *cannot* be re-declared to have a different type. For example, run the following cell to see what happens if we try to fix the error in the previous cell by re-declaring `x` to have type `String`:"
   ]
  },
  {
   "cell_type": "code",
   "execution_count": null,
   "metadata": {},
   "outputs": [],
   "source": [
    "int x = 1;\n",
    "System.out.println(x);\n",
    "\n",
    "String x = \"Not one\";    // re-declare x to have type string?\n",
    "System.out.println(x);"
   ]
  },
  {
   "cell_type": "markdown",
   "metadata": {},
   "source": [
    "This time a compile time error occurs indicating that `x` has already been defined."
   ]
  },
  {
   "cell_type": "markdown",
   "metadata": {},
   "source": [
    "If we need a variable to hold a string value then we can declare a new variable having a different name of type `String`. Run the following cell that uses two variables of different types:"
   ]
  },
  {
   "cell_type": "code",
   "execution_count": null,
   "metadata": {},
   "outputs": [],
   "source": [
    "int x = 1;\n",
    "System.out.println(x);\n",
    "\n",
    "String y = \"Not one\";    \n",
    "System.out.println(y);"
   ]
  },
  {
   "cell_type": "markdown",
   "metadata": {},
   "source": [
    "The reader might wonder if this means that a program can use a variable name only once in an entire program. The answer is no, a name can be declared only once in what Java calls a *block*. A block is a part of a Java program enclosed by a matched pair of braces `{}`. For example, run the following cell that contains two blocks:"
   ]
  },
  {
   "cell_type": "code",
   "execution_count": null,
   "metadata": {},
   "outputs": [],
   "source": [
    "// block 1\n",
    "{\n",
    "    int x = 1;\n",
    "    System.out.println(x);\n",
    "}\n",
    "\n",
    "// block 2\n",
    "{\n",
    "    String x = \"Not one\";    // ok\n",
    "    System.out.println(x);\n",
    "}"
   ]
  },
  {
   "cell_type": "markdown",
   "metadata": {},
   "source": [
    "Before continuing the current discussion, it must be pointed out that the previous cell is not an example of good Java programming practice; instead of creating two blocks it is easier to simply create a separate variable.\n",
    "\n",
    "We say that the *scope* of a variable is the block in which it is defined. This means that a variable name has meaning only inside of the block that it is declared in. In the previous cell, `x` is an `int` variable in block 1. Immediately after block 1, the name `x` has no meaning and it is an error to attempt to use `x` outside of block 1:"
   ]
  },
  {
   "cell_type": "code",
   "execution_count": null,
   "metadata": {},
   "outputs": [],
   "source": [
    "{\n",
    "    int x = 1;\n",
    "    System.out.println(x);\n",
    "}\n",
    "System.out.println(x);    // oops, x is out of scope"
   ]
  },
  {
   "cell_type": "markdown",
   "metadata": {},
   "source": [
    "Blocks are often nested, especially when using `if` statements and loops. The scope of a variable includes the block that the variable was declared in and all of the blocks that are inside of that block. Run the following cell illustrating the scope of `x` in a series of nested blocks."
   ]
  },
  {
   "cell_type": "code",
   "execution_count": null,
   "metadata": {},
   "outputs": [],
   "source": [
    "// block 1\n",
    "{\n",
    "    int x = 1;\n",
    "   // block 2\n",
    "    {\n",
    "        System.out.println(\"block 2, x is : \" + x);\n",
    "       // block 3\n",
    "        {\n",
    "            System.out.println(\"block 3, x is : \" + x);\n",
    "           // block 4\n",
    "            {\n",
    "                System.out.println(\"block 4, x is : \" + x);\n",
    "            }\n",
    "        }\n",
    "    }\n",
    "    System.out.println(\"block 1, x is : \" + x);\n",
    "}"
   ]
  },
  {
   "cell_type": "markdown",
   "metadata": {},
   "source": [
    "## Exercises"
   ]
  },
  {
   "cell_type": "markdown",
   "metadata": {},
   "source": [
    "1. What is wrong with the following Java program?\n",
    "    ```java\n",
    "    x = 1;\n",
    "    System.out.println(x);\n",
    "    ```\n",
    " Fix the program so that it runs in the following cell."
   ]
  },
  {
   "cell_type": "code",
   "execution_count": null,
   "metadata": {},
   "outputs": [],
   "source": [
    "// Exercise 1\n"
   ]
  },
  {
   "cell_type": "markdown",
   "metadata": {},
   "source": [
    "2. Consider the following Java program:\n",
    "    ```java\n",
    "    String s = \"hello\";\n",
    "    {\n",
    "       // block 1\n",
    "        \n",
    "    }\n",
    "\n",
    "    {\n",
    "       // block 2\n",
    "        \n",
    "    }\n",
    "    ```\n",
    " Can `s` be used in block 1? block 2? Edit the following cell to prove your answers."
   ]
  },
  {
   "cell_type": "code",
   "execution_count": null,
   "metadata": {},
   "outputs": [],
   "source": [
    "// Exercise 2\n"
   ]
  },
  {
   "cell_type": "markdown",
   "metadata": {},
   "source": [
    "3. Consider the following Java program:\n",
    "    ```java\n",
    "    // block 1\n",
    "    {\n",
    "        // block 2\n",
    "        {\n",
    "            String s = \"hello\";\n",
    "            // block 3\n",
    "            {\n",
    "                // block 4\n",
    "                {\n",
    "                \n",
    "                }\n",
    "            }\n",
    "        }\n",
    "    }\n",
    "    ```\n",
    "  Can `s` be used immediately after block 3? block 4? block 1? Edit the following cell to prove your answers:"
   ]
  },
  {
   "cell_type": "code",
   "execution_count": null,
   "metadata": {},
   "outputs": [],
   "source": [
    "// Exercise 3\n"
   ]
  }
 ],
 "metadata": {
  "kernelspec": {
   "display_name": "Java",
   "language": "java",
   "name": "java"
  },
  "language_info": {
   "codemirror_mode": "text/x-java",
   "file_extension": ".java",
   "mimetype": "",
   "name": "Java",
   "nbconverter_exporter": "",
   "version": "11.0.1-internal"
  },
  "toc": {
   "base_numbering": 1,
   "nav_menu": {},
   "number_sections": false,
   "sideBar": false,
   "skip_h1_title": false,
   "title_cell": "Table of Contents",
   "title_sidebar": "Contents",
   "toc_cell": false,
   "toc_position": {},
   "toc_section_display": false,
   "toc_window_display": false
  }
 },
 "nbformat": 4,
 "nbformat_minor": 4
}
